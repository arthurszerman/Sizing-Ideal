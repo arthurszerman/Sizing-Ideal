{
 "cells": [
  {
   "cell_type": "markdown",
   "id": "furnished-belfast",
   "metadata": {},
   "source": [
    "(geral)= \n",
    "\n",
    "# General Sanity\n",
    "## Relatório geral\n",
    "\n",
    "<pre>\n",
    "+------------------------+----------+\n",
    "|                        |   Values |\n",
    "+========================+==========+\n",
    "| Number of variables    |       12 |\n",
    "+------------------------+----------+\n",
    "| Number of observations |     2676 |\n",
    "+------------------------+----------+\n",
    "| Number duplicated      |        0 |\n",
    "+------------------------+----------+\n",
    "| Number disregard       |        0 |\n",
    "+------------------------+----------+\n",
    "| numeric                |        5 |\n",
    "+------------------------+----------+\n",
    "| category               |        4 |\n",
    "+------------------------+----------+\n",
    "| text                   |        3 |\n",
    "+------------------------+----------+\n",
    "</pre>"
   ]
  }
 ],
 "metadata": {
  "jupytext": {
   "text_representation": {
    "extension": ".md",
    "format_name": "myst"
   }
  },
  "kernelspec": {
   "display_name": "Python 3",
   "language": "python",
   "name": "python3"
  },
  "language_info": {
   "codemirror_mode": {
    "name": "ipython",
    "version": 3
   },
   "file_extension": ".py",
   "mimetype": "text/x-python",
   "name": "python",
   "nbconvert_exporter": "python",
   "pygments_lexer": "ipython3",
   "version": "3.8.5"
  },
  "source_map": [
   10
  ]
 },
 "nbformat": 4,
 "nbformat_minor": 5
}