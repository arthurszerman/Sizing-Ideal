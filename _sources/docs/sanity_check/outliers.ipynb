{
 "cells": [
  {
   "cell_type": "markdown",
   "id": "after-antique",
   "metadata": {},
   "source": [
    "(outliers)= \n",
    "\n",
    "# Outliers\n",
    "## Relatório geral\n",
    "\n",
    "<pre>\n",
    "+--------------------------+-----------------------+------------+\n",
    "|                          | Nome Feature          |   Outliers |\n",
    "+==========================+=======================+============+\n",
    "| DIFERENÇA IDEAL - ATUAL  | diferenca_ideal_atual |        504 |\n",
    "+--------------------------+-----------------------+------------+\n",
    "| FTE IDEAL                | fte_ideal             |        340 |\n",
    "+--------------------------+-----------------------+------------+\n",
    "| FTE ATUAL                | fte_atual             |        255 |\n",
    "+--------------------------+-----------------------+------------+\n",
    "| TOTAL HE POR MÊS DA ÁREA | total_he_mes_area     |          0 |\n",
    "+--------------------------+-----------------------+------------+\n",
    "| NÍVEL DE QUALIDADE       | nivel_de_qualidade    |          0 |\n",
    "+--------------------------+-----------------------+------------+\n",
    "</pre>"
   ]
  }
 ],
 "metadata": {
  "jupytext": {
   "text_representation": {
    "extension": ".md",
    "format_name": "myst"
   }
  },
  "kernelspec": {
   "display_name": "Python 3",
   "language": "python",
   "name": "python3"
  },
  "language_info": {
   "codemirror_mode": {
    "name": "ipython",
    "version": 3
   },
   "file_extension": ".py",
   "mimetype": "text/x-python",
   "name": "python",
   "nbconvert_exporter": "python",
   "pygments_lexer": "ipython3",
   "version": "3.8.5"
  },
  "source_map": [
   10
  ]
 },
 "nbformat": 4,
 "nbformat_minor": 5
}