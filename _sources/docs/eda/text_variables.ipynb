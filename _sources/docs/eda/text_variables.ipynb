{
 "cells": [
  {
   "cell_type": "markdown",
   "id": "yellow-project",
   "metadata": {},
   "source": [
    "(text_variables)= \n",
    "\n",
    "# Variáveis de Texto\n",
    "## Relatório geral\n",
    "\n",
    "<pre>\n",
    "+----+-------------------+-----------------------+-----------------------------+\n",
    "|    | Nome Feature      |   Qtde Missing Values |   Proportion Missing Values |\n",
    "+====+===================+=======================+=============================+\n",
    "|  0 | gerente_executivo |                     0 |                           0 |\n",
    "+----+-------------------+-----------------------+-----------------------------+\n",
    "|  1 | gerente_hier4     |                     0 |                           0 |\n",
    "+----+-------------------+-----------------------+-----------------------------+\n",
    "|  2 | gerente_hier5     |                     0 |                           0 |\n",
    "+----+-------------------+-----------------------+-----------------------------+\n",
    "</pre>\n",
    "\n",
    "\n",
    "\n",
    "\n",
    "```{toctree}\n",
    ":hidden:\n",
    ":titlesonly:\n",
    "\n",
    "\n",
    "text_vars/gerente_executivo\n",
    "text_vars/gerente_hier4\n",
    "text_vars/gerente_hier5\n",
    "```"
   ]
  }
 ],
 "metadata": {
  "jupytext": {
   "text_representation": {
    "extension": ".md",
    "format_name": "myst"
   }
  },
  "kernelspec": {
   "display_name": "Python 3",
   "language": "python",
   "name": "python3"
  },
  "language_info": {
   "codemirror_mode": {
    "name": "ipython",
    "version": 3
   },
   "file_extension": ".py",
   "mimetype": "text/x-python",
   "name": "python",
   "nbconvert_exporter": "python",
   "pygments_lexer": "ipython3",
   "version": "3.8.5"
  },
  "source_map": [
   10
  ]
 },
 "nbformat": 4,
 "nbformat_minor": 5
}