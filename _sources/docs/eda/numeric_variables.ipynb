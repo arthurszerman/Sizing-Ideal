{
 "cells": [
  {
   "cell_type": "markdown",
   "id": "patent-float",
   "metadata": {},
   "source": [
    "(numeric_variables)= \n",
    "\n",
    "# Variáveis Numéricas\n",
    "## Relatório geral\n",
    "\n",
    "<pre>\n",
    "+----+-----------------------+-----------------------+-----------------------------+\n",
    "|    | Nome Feature          |   Qtde Missing Values |   Proportion Missing Values |\n",
    "+====+=======================+=======================+=============================+\n",
    "| 11 | nivel_de_qualidade    |                   158 |                         5.9 |\n",
    "+----+-----------------------+-----------------------+-----------------------------+\n",
    "|  5 | fte_atual             |                     0 |                         0   |\n",
    "+----+-----------------------+-----------------------+-----------------------------+\n",
    "|  6 | fte_ideal             |                     0 |                         0   |\n",
    "+----+-----------------------+-----------------------+-----------------------------+\n",
    "|  7 | diferenca_ideal_atual |                     0 |                         0   |\n",
    "+----+-----------------------+-----------------------+-----------------------------+\n",
    "|  8 | total_he_mes_area     |                     0 |                         0   |\n",
    "+----+-----------------------+-----------------------+-----------------------------+\n",
    "</pre>\n",
    "\n",
    "\n",
    "\n",
    "\n",
    "```{toctree}\n",
    ":hidden:\n",
    ":titlesonly:\n",
    "\n",
    "\n",
    "numeric_vars/fte_atual\n",
    "numeric_vars/fte_ideal\n",
    "numeric_vars/diferenca_ideal_atual\n",
    "numeric_vars/total_he_mes_area\n",
    "numeric_vars/nivel_de_qualidade\n",
    "```"
   ]
  }
 ],
 "metadata": {
  "jupytext": {
   "text_representation": {
    "extension": ".md",
    "format_name": "myst"
   }
  },
  "kernelspec": {
   "display_name": "Python 3",
   "language": "python",
   "name": "python3"
  },
  "language_info": {
   "codemirror_mode": {
    "name": "ipython",
    "version": 3
   },
   "file_extension": ".py",
   "mimetype": "text/x-python",
   "name": "python",
   "nbconvert_exporter": "python",
   "pygments_lexer": "ipython3",
   "version": "3.8.5"
  },
  "source_map": [
   10
  ]
 },
 "nbformat": 4,
 "nbformat_minor": 5
}