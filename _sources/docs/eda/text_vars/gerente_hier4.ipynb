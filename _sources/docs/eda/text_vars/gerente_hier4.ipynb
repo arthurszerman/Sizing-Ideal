{
 "cells": [
  {
   "cell_type": "markdown",
   "id": "intense-jesus",
   "metadata": {},
   "source": [
    "(gerente_hier4)= \n",
    "\n",
    "# gerente_hier4\n",
    "Tipo da variável: text\n",
    "## Relatório geral\n",
    "\n",
    "<pre>\n",
    "+-------+----------+\n",
    "|       |   Values |\n",
    "+=======+==========+\n",
    "| Count |     2676 |\n",
    "+-------+----------+\n",
    "| Na's  |        0 |\n",
    "+-------+----------+\n",
    "</pre>\n",
    "\n",
    "\n",
    "\n",
    "## Análise Univariada\n",
    "\n",
    "\n",
    "\n",
    "\n",
    "```{figure} ../../../assets/img/gerente_hier4/gerente_hier4.png\n",
    ":name: gerente_hier4\n",
    "```"
   ]
  }
 ],
 "metadata": {
  "jupytext": {
   "text_representation": {
    "extension": ".md",
    "format_name": "myst"
   }
  },
  "kernelspec": {
   "display_name": "Python 3",
   "language": "python",
   "name": "python3"
  },
  "language_info": {
   "codemirror_mode": {
    "name": "ipython",
    "version": 3
   },
   "file_extension": ".py",
   "mimetype": "text/x-python",
   "name": "python",
   "nbconvert_exporter": "python",
   "pygments_lexer": "ipython3",
   "version": "3.8.5"
  },
  "source_map": [
   10
  ]
 },
 "nbformat": 4,
 "nbformat_minor": 5
}